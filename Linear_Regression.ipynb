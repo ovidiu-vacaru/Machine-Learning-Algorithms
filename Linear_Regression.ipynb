{
  "nbformat": 4,
  "nbformat_minor": 0,
  "metadata": {
    "colab": {
      "provenance": [],
      "authorship_tag": "ABX9TyOvf3hez4/6FlIugzVeMmhn",
      "include_colab_link": true
    },
    "kernelspec": {
      "name": "python3",
      "display_name": "Python 3"
    },
    "language_info": {
      "name": "python"
    },
    "accelerator": "GPU",
    "gpuClass": "standard"
  },
  "cells": [
    {
      "cell_type": "markdown",
      "metadata": {
        "id": "view-in-github",
        "colab_type": "text"
      },
      "source": [
        "<a href=\"https://colab.research.google.com/github/ovidiu-vacaru/Machine-Learning-Algorithms/blob/main/Linear_Regression.ipynb\" target=\"_parent\"><img src=\"https://colab.research.google.com/assets/colab-badge.svg\" alt=\"Open In Colab\"/></a>"
      ]
    },
    {
      "cell_type": "markdown",
      "source": [
        "Linear regression is a statistical method that models the relationship between a dependent variable and one or more independent variables. The goal is to find the best-fitting line that minimizes the differences between observed and predicted values.\n",
        "\n",
        "Common methods to solve linear regression problems include:\n",
        "\n",
        "\n",
        "\n",
        "\n",
        "\n",
        "Ordinary Least Squares (OLS),\n",
        "Gradient Descent,\n",
        "Ridge Regression (L2 Regularization),\n",
        "Lasso Regression (L1 Regularization),\n",
        "Elastic Net Regression,\n",
        "Least Angle Regression (LARS),\n",
        "Bayesian Linear Regression\n",
        "\n",
        "In this notebook we'll focus primary on Ordinary Least Squares (OLS), LMS algorithm, and a probabilistic approach.\n",
        "\n",
        "\n"
      ],
      "metadata": {
        "id": "FvgaFqoA5wDq"
      }
    },
    {
      "cell_type": "markdown",
      "source": [
        "**LMS ALGORITHM**"
      ],
      "metadata": {
        "id": "g0n5WBsP2BgG"
      }
    },
    {
      "cell_type": "markdown",
      "source": [
        "The Least Mean Squares (LMS) regression aims to minimize the mean squared error (MSE) between the predicted output and the actual output. Given a dataset with input-output pairs $(x_i, y_i)$ for $i = 1, 2, \\dots, N$, the LMS regression problem can be written in mathematical notation as follows:\n",
        "\n",
        "\n",
        "$\\hat{y}_i = w_0 + w_1 x_{i1} + w_2 x_{i2}$\n",
        "\n",
        "$J(w) = \\frac{1}{N} \\sum_{i=1}^{N} (y_i - \\hat{y}_i)^2 = \\frac{1}{N} \\sum_{i=1}^{N} (y_i - (w_0 + w_1 x_{i1} + w_2 x_{i2}))^2$\n",
        "\n",
        "$w_j := w_j + \\alpha (y_i - \\hat{y}_i) x_{ij} \\quad \\text{for } j = 0, 1, 2$"
      ],
      "metadata": {
        "id": "Vxc0h7Y6EHCG"
      }
    },
    {
      "cell_type": "markdown",
      "source": [
        "We will generate a simple dataset with one feature which represents the number of rooms, for simplicity, and we'll assign some values, the goal is to fit a line to the data."
      ],
      "metadata": {
        "id": "bmJ05yuJtVhH"
      }
    },
    {
      "cell_type": "code",
      "source": [
        "import numpy as np\n",
        "import matplotlib.pyplot as plt\n",
        "\n",
        "# Create a simple dataset with 1 feature (e.g., house prices)\n",
        "house_prices = np.array([120000.0, 200000.0, 250000.0, 300000.0, 350000.0, 400000.0, 450000.0, 500000.0, 600000.0, 700000.0])\n",
        "\n",
        "# Create corresponding indices (e.g., house numbers)\n",
        "house_numbers = np.arange(1, len(house_prices) + 1)\n",
        "\n",
        "# Plot the dataset\n",
        "plt.scatter(house_numbers, house_prices)\n",
        "plt.xlabel('House Number')\n",
        "plt.ylabel('House Price')\n",
        "plt.title('House Prices Dataset')\n",
        "plt.show()\n"
      ],
      "metadata": {
        "colab": {
          "base_uri": "https://localhost:8080/",
          "height": 295
        },
        "id": "2bWFOF16APtZ",
        "outputId": "905d5056-b396-436f-bcc5-99ed86619289"
      },
      "execution_count": null,
      "outputs": [
        {
          "output_type": "display_data",
          "data": {
            "text/plain": [
              "<Figure size 432x288 with 1 Axes>"
            ],
            "image/png": "[encoded data removed]"
          },
          "metadata": {
            "needs_background": "light"
          }
        }
      ]
    },
    {
      "cell_type": "code",
      "source": [
        "import jax.numpy as jnp\n",
        "from jax import grad, jit\n",
        "from jax import random\n",
        "import jax\n",
        "\n",
        "def model(X, w, b):\n",
        "    return jnp.dot(X, w) + b\n",
        "\n",
        "X = jnp.array(house_numbers).reshape(-1, 1)\n",
        "y = jnp.array(house_prices).reshape(-1, 1)\n",
        "\n",
        "rng = random.PRNGKey(2)\n",
        "w = 0.0\n",
        "b = 0.0\n",
        "\n",
        "@jax.jit\n",
        "def loss_mse(X, w, b, y):\n",
        "    return jnp.mean((model(X, w, b) - y)**2)\n",
        "\n",
        "gradients = jax.jit(grad(loss_mse, argnums=(1, 2)))\n",
        "\n",
        "for i in range(10000):\n",
        "    grad_w, grad_b = gradients(X, w, b, y)\n",
        "    w = w - 0.01 * grad_w\n",
        "    b = b - 0.01 * grad_b\n",
        "\n",
        "import matplotlib.pyplot as plt\n",
        "\n",
        "plt.scatter(X, y, label='Data points')\n",
        "plt.plot(X, model(X, w, b), label='Fitted line')\n",
        "loss = loss_mse(X, w, b, y)\n",
        "plt.xlabel('X-axis')\n",
        "plt.ylabel('Y-axis')\n",
        "plt.legend()\n",
        "plt.show()\n"
      ],
      "metadata": {
        "colab": {
          "base_uri": "https://localhost:8080/",
          "height": 297
        },
        "id": "5U4vbCj8tikJ",
        "outputId": "ca79aa34-02e0-4b55-b67d-78cc2789cc2c"
      },
      "execution_count": null,
      "outputs": [
        {
          "output_type": "stream",
          "name": "stdout",
          "text": [
            "495879260.0\n"
          ]
        },
        {
          "output_type": "display_data",
          "data": {
            "text/plain": [
              "<Figure size 432x288 with 1 Axes>"
            ],
            "image/png": "[encoded data removed]"
          },
          "metadata": {
            "needs_background": "light"
          }
        }
      ]
    }
  ]
}